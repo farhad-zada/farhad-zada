{
  "nbformat": 4,
  "nbformat_minor": 0,
  "metadata": {
    "colab": {
      "provenance": []
    },
    "kernelspec": {
      "name": "python3",
      "display_name": "Python 3"
    },
    "language_info": {
      "name": "python"
    },
    "accelerator": "GPU",
    "gpuClass": "standard"
  },
  "cells": [
    {
      "cell_type": "markdown",
      "source": [
        "# Explanation \n",
        "\n",
        "\n",
        "```\n",
        "[[2 5 6]\n",
        " [8 0 6]\n",
        " [4 3 2]\n",
        " [4 3 2]]\n",
        "```\n",
        "First house's possible material costs are `[2, 5, 6]`\n",
        "So if we would have only one house we would choose the material with min cost. The second house is `[8 0 6]`. Now for every position we need to find the releation with previous one:\n",
        "\n",
        "Index 0:\n",
        "\n",
        "`8 + 2` is not possible since it's been restricted.\n",
        "\n",
        "`8 + 5 = 13`\n",
        "\n",
        "`8 + 6 = 14`\n",
        "\n",
        "So for index 0 we have `[13, 14]`\n",
        "\n",
        "Index 1:\n",
        "\n",
        "`0 + 2 = 2` \n",
        "\n",
        "`0 + 5` restricted\n",
        "\n",
        "`0 + 6 = 6`\n",
        "\n",
        "So for index 1 we have = `[2, 6]`\n",
        "\n",
        "Index 2:\n",
        "\n",
        "`6 + 2 = 8`\n",
        "\n",
        "`6 + 0 = 6`\n",
        "\n",
        "`6 + 6` restricted\n",
        "\n",
        "So for index 2 we have `[8, 6]`\n",
        "\n",
        "So say if we have a dictionary and set the cost for every material to zero we would had: dic = `{0: [0], 1: [0], 2: [0]}`\n",
        "\n",
        "After first house our dictionary would be `{0: [2], 1: [5], 2: [6]}`. For third (or any next house) we would slect minimum of the costs from unrestricted costs.\n",
        "\n",
        "After second house our dictionary is: `{0: [13, 14], 1: [2, 6], 2: [8, 6]}`\n",
        "\n",
        "So now again to pass to next house we choose the minimum of path cost to this house becouse in either way we would get to current house and would not happen any collision of materials, it's very obvious that we should choose the path with least cost.\n",
        "\n",
        "# And if you have further questions you can reach me here:\n",
        "# farhad.szd@gmail.com\n",
        "# +994 55 736 7002 (WhatsApp)\n",
        "# farhad_zada_ (instagram)"
      ],
      "metadata": {
        "id": "LtbIz6gAAnJN"
      }
    },
    {
      "cell_type": "code",
      "source": [
        "# hackerrank.com // Construction Managment \n",
        "\n",
        "\"\"\"                                                 WARNING                                                  \"\"\"\n",
        "'''To understand it you should read both the code and comments at least twice, cuz it actually works backward'''\n",
        "\n",
        "# We need a dictionary that keys are indices and values are lists so we use defaultdict set to list\n",
        "\n",
        "from collections import defaultdict\n",
        "import numpy as np\n",
        "# Here I put an example of data. You can change it to the real task by remowing 'rows' \n",
        "# variable and putting the real data variable from question into the function (min_cost()).\n",
        "\n",
        "\n",
        "rows = np.random.randint(10, size = (4, 3)) # Here we generate some random numbers\n",
        "\n",
        "#for example: \n",
        "# [[2 5 6]\n",
        "#  [8 0 6]\n",
        "#  [4 3 2]\n",
        "#  [4 3 2]]\n",
        "\n",
        "print(rows)\n",
        "\n",
        "def min_cost(houses):\n",
        "\n",
        "    generator = defaultdict(list) # We will use this dictionary to save results after each loop over a house\n",
        "    for i in range(len(houses[0])): generator[i].append(0) # Set the default cost to 0 for all choices\n",
        "\n",
        "    for house in houses:\n",
        "        tmp = defaultdict(list) # Define another dictionary 'temporarry' since it is changing for every new house\n",
        "\n",
        "        for restricted, material in enumerate(house): # Here we iterate over values of the house and by restricted we know that with wich previous value we can't sum it\n",
        "\n",
        "            for k, v in generator.items(): # Here we \n",
        "\n",
        "                if k != restricted: # If the index of current material is not the same with previous one\n",
        "                    tmp[restricted].append(material+min(v)) # Here we use tmp, into our current material's index we append\n",
        "                                                          # all the values that are possible since here, but we select min( of values) since if that is not we don't need that values\n",
        "        \n",
        "        generator = tmp # Now our temporary dict 'tmp' carries the value till current house then we replace generator to tmp\n",
        "\n",
        "    return min([min(val) for val in generator.values()]) # And now we choose the minimum path\n",
        "\n",
        "min_cost(rows)\n",
        "\n",
        "# I recommend you to use print() in every point to get the real sense how it works. \n"
      ],
      "metadata": {
        "colab": {
          "base_uri": "https://localhost:8080/"
        },
        "id": "Qp8IsnS8QyFU",
        "outputId": "14d999eb-4e94-4cdc-a2eb-74fddf23d426"
      },
      "execution_count": 13,
      "outputs": [
        {
          "output_type": "stream",
          "name": "stdout",
          "text": [
            "[[2 5 6]\n",
            " [8 0 6]\n",
            " [4 3 2]\n",
            " [4 3 2]]\n"
          ]
        },
        {
          "output_type": "execute_result",
          "data": {
            "text/plain": [
              "7"
            ]
          },
          "metadata": {},
          "execution_count": 13
        }
      ]
    },
    {
      "cell_type": "code",
      "source": [
        "# /// Real question solution ///\n",
        "\n",
        "from collections import defaultdict\n",
        "\n",
        "def min_cost(houses):\n",
        "\n",
        "    generator = defaultdict(list)\n",
        "    for i in range(3): generator[i].append(0)\n",
        "\n",
        "    for house in houses:\n",
        "        tmp = defaultdict(list)\n",
        "        for restricted, material in enumerate(house):\n",
        "            for k, v in generator.items():\n",
        "                if k != restricted:\n",
        "                    tmp[restricted].append(material+min(v)) \n",
        "        generator = tmp\n",
        "\n",
        "    return min([min(val) for val in generator.values()])\n",
        "\n",
        "print(min_cost(cost))"
      ],
      "metadata": {
        "id": "_Vh170yl__2F"
      },
      "execution_count": null,
      "outputs": []
    }
  ]
}